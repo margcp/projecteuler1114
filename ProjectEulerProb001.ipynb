{
  "nbformat": 4,
  "nbformat_minor": 0,
  "metadata": {
    "colab": {
      "provenance": [],
      "authorship_tag": "ABX9TyMKYY4uw14AY3lOWXb68NnO",
      "include_colab_link": true
    },
    "kernelspec": {
      "name": "python3",
      "display_name": "Python 3"
    },
    "language_info": {
      "name": "python"
    }
  },
  "cells": [
    {
      "cell_type": "markdown",
      "metadata": {
        "id": "view-in-github",
        "colab_type": "text"
      },
      "source": [
        "<a href=\"https://colab.research.google.com/github/margcp/projecteuler1114/blob/main/ProjectEulerProb001.ipynb\" target=\"_parent\"><img src=\"https://colab.research.google.com/assets/colab-badge.svg\" alt=\"Open In Colab\"/></a>"
      ]
    },
    {
      "cell_type": "code",
      "execution_count": 1,
      "metadata": {
        "id": "B0PBF_Df1gFI"
      },
      "outputs": [],
      "source": [
        "#Multiples of 3 and 5\n",
        "#Problem 1\n",
        "#If we list all the natural numbers below 10 that are multiples of 3 or 5,\n",
        "#we get 3, 5, 6 and 9. The sum of these multiples is 23.\n",
        "#Find the sum of all the multiples of 3 or 5 below 1000."
      ]
    }
  ]
}